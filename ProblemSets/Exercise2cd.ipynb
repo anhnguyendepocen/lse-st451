{
 "cells": [
  {
   "cell_type": "code",
   "execution_count": null,
   "metadata": {},
   "outputs": [],
   "source": [
    "import numpy as np\n",
    "import pandas as pd\n",
    "import matplotlib.pyplot as plt\n",
    "%matplotlib inline"
   ]
  },
  {
   "cell_type": "markdown",
   "metadata": {},
   "source": [
    "### Model and priors\n",
    "\n",
    "Let $y=(y_1,\\dots,y_n)$ be a r.s. from a N($\\mu,v$) where $v$ is distributed according to an IGamma($\\frac{N}{2},\\frac{N}{2}\\sigma^2$). The parameter $N$ is assumed to be known. Finalise the model with an improper prior on $\\mu,\\sigma^2$, $\\pi(\\mu,\\sigma^2)\\propto 1$.\n"
   ]
  },
  {
   "cell_type": "markdown",
   "metadata": {},
   "source": [
    "### Gibbs Sampler details\n",
    "\n",
    "The full conditional posterior for $v$ is\n",
    "\\begin{align*}\n",
    "  \\pi(v|\\mu,\\sigma^2,y)&  \\propto v^{-\\frac{n+N}{2}-1} \\exp\\left(-\\frac{\\frac{\\sum_{i=1}^n(y_i-\\mu)^2}{2}}{v}\\right) \\exp\\left(-\\frac{\\frac{N}{2}\\sigma^2}{ v}\\right)\\\\\n",
    "  &=v^{-\\frac{n+N}{2}-1}  \\exp\\left(-\\frac{\\frac{N\\sigma^2+\\sum_{i=1}^n(y_i-\\mu)^2}{2}}{v}\\right)\\\\\n",
    "  &\\overset{\\mathcal{D}}{=} \\text{IGamma}\\left(\\frac{n+N}{2}, \\frac{N\\sigma^2+\\sum_{i=1}^n(y_i-\\mu)^2}{2}\\right),\n",
    "\\end{align*}\n",
    "\n",
    "whereas for $\\mu$ is\n",
    "\n",
    "\\begin{align*}\n",
    "  \\pi(\\mu|v,\\sigma^2,y)&\\propto \\exp\\left(-\\sum_{i=1}^n\\frac{(\\mu^2-2\\mu y_i+y_i^2)}{2v}\\right)\\propto\\exp\\left(-\\frac{n\\mu^2-2\\mu \\sum_{i=1}^n y_i}{2v} \\right)\\\\\n",
    "  &=\\exp\\left(-\\frac{\\mu^2-2\\mu\\bar{y}}{2v/n}\\right)\n",
    "  \\overset{\\mathcal{D}}{=} \\text{ N} \\left(\\bar{y},\\frac{v}{n}\\right),\n",
    "\\end{align*}\n",
    "\n",
    "and for $\\sigma^2$\n",
    "\n",
    "\\begin{align*}\n",
    "  \\pi(\\sigma^2|v,\\mu,y)&\\propto (\\sigma^2)^{N/2 +1 -1} \\exp\\left(-\\frac{N}{2v}\\sigma^2\\right)\n",
    "  \\overset{\\mathcal{D}}{=} \\text{ Gamma} \\left(N/2 +1,\\frac{N}{2v}\\right),\n",
    "\\end{align*}\n"
   ]
  },
  {
   "cell_type": "markdown",
   "metadata": {},
   "source": [
    "### Simulate data\n",
    "\n",
    "Generate $200$ numbers from the model above with $\\mu=0$, $\\sigma^2=1$, $v=1$ and $N=20$. \n"
   ]
  },
  {
   "cell_type": "code",
   "execution_count": 35,
   "metadata": {},
   "outputs": [
    {
     "name": "stdout",
     "output_type": "stream",
     "text": [
      "data: [ 0.17749736  2.52763271  1.76563391  1.83326003  2.13336266  1.80829268\n",
      "  2.40993238  1.80974618  1.65095443  2.13811709  3.12877988  3.16562908\n",
      "  1.52482072  2.80537081  1.58404221  2.59594567  2.05423291  2.733664\n",
      "  1.98210606  1.10583575  3.18399688  1.81246725  1.91268753 -0.29402443\n",
      "  2.69392241  2.33448046  3.03331172  2.10009277  3.92065078  0.80753462\n",
      "  1.26678009  3.43610371  2.32482516  3.35614088  1.2183675   3.43138913\n",
      "  1.71251859  2.35030765 -1.0483382   1.31459616  1.14622347  1.39324569\n",
      " -0.26875397  3.22043426  3.47852487  1.78431563  0.29787081  2.12266503\n",
      "  0.22026008  0.84502231  2.58706624  2.42502434  3.03087462 -0.48482025\n",
      "  2.18202909  2.92879387  1.03778429  1.16651087  1.7723951   2.31628764\n",
      "  2.03915391  2.15485944  2.59073409  0.97339602  2.89719294  0.32817438\n",
      "  2.33421048  1.62931232  3.87810837  2.13201406  1.92929634  0.85593748\n",
      "  1.27662043  1.45382102  1.94548589  2.66043027  1.02637221  2.72283627\n",
      "  0.72725712  2.67888425  2.15385431  1.80900567  3.28607133  2.71009677\n",
      "  0.58046467  1.56358783  3.67485373  2.82935495  0.89551816  1.53260667\n",
      "  1.82973301  2.98123348  2.13263778  3.22838691 -0.04477541  1.82673504\n",
      "  1.01407899  2.04377307  2.40255782  3.38638604  1.88057549  1.10996136\n",
      "  1.1759713   1.96874886  2.44410249  1.94883823  2.47979075  2.0321365\n",
      "  2.50678501  2.53239162  2.363945    4.78174531  1.20875264  2.34454764\n",
      "  2.65403218  0.21682752  1.10730506  1.60398344  1.16825766  0.5271379\n",
      "  2.57062784  0.92704684  0.93661495  2.68987822  3.19607735  2.38571007\n",
      "  2.29779899  1.86323197  3.92402627  4.08094938  2.69866058  1.77828175\n",
      "  0.81531915  4.20120959 -0.94195687  2.77980617  0.28831404  2.17616697\n",
      "  2.52298127  2.46439361  1.16699172  2.11651149  1.3676473   2.23217777\n",
      "  3.00420734  3.16734701  1.4596423   2.18058892  2.54064384  3.22803635\n",
      "  2.05596222  1.2665801   1.93899174  1.70297446  1.7506991   0.30626923\n",
      "  2.6363608   2.92373746  2.34356404  3.0069535   1.70684166  2.71258592\n",
      "  1.47760742  2.08990179  1.93757379  4.04409041  1.03625371  2.24202556\n",
      "  0.67098417  2.38831918  3.13382155  1.52431822  2.5173542   1.12337185\n",
      "  1.5286169   0.00651246  1.492843    3.24761103  1.54300481  3.15472785\n",
      "  1.85465749  2.25837818  2.62000512  0.78668764  3.41860613  1.78705871\n",
      "  0.30234733  2.59569711  1.42703738  1.30777716  2.65015015  2.15794145\n",
      "  4.1285547   2.95815601  2.05937581  3.23183995  1.55968357  1.81606993\n",
      "  0.63105281  1.31463389]\n",
      "sample mean: 1.9981280800887335\n",
      "sample variance: 1.0076699687093384\n"
     ]
    }
   ],
   "source": [
    "#Simulate data to check the Gibbs sampler\n",
    "n = 200 #sample size\n",
    "mu_true = 2\n",
    "v_true = 1\n",
    "sigma2_true = 1\n",
    "N = 20\n",
    "#v = 1/np.random.gamma(N/2,2/(N*sigma2_true),n)\n",
    "y = mu_true + np.random.randn(n)*np.sqrt(v_true)\n",
    "ybar = np.mean(y)\n",
    "S2 = np.sum((y-ybar)**2)\n",
    "print('data:',y)\n",
    "print('sample mean:',ybar)\n",
    "print('sample variance:',S2/(n-1))"
   ]
  },
  {
   "cell_type": "markdown",
   "metadata": {},
   "source": [
    "### Now we run the Gibbs sampler "
   ]
  },
  {
   "cell_type": "code",
   "execution_count": 36,
   "metadata": {},
   "outputs": [],
   "source": [
    "N = 10000 # number of iterations\n",
    "\n",
    "#create object mus and sigma2s to store the Markov chain samples, \n",
    "#with $\\pi(\\theta,\\sigma^2|y)$ as stationary distribution\n",
    "mus = np.zeros(N)\n",
    "vs = np.zeros(N)\n",
    "sigma2s = np.zeros(N)\n",
    "\n",
    "\n",
    "#Set initial values for mu and sigma2\n",
    "mu = 10\n",
    "sigma2 = 5\n",
    "v = 4\n",
    "\n",
    "for iter in range(N):\n",
    "    #Store current value of the chain (mu,sigma2)\n",
    "    mus[iter] = mu\n",
    "    vs[iter] = v\n",
    "    sigma2s[iter] = sigma2\n",
    "    \n",
    "    #Draw mu given y, v and sigma2\n",
    "    mu = ybar + np.sqrt(v/n)*np.random.randn(1)  #Draw from the full conditional of mu\n",
    "    \n",
    "    #Draw v given y, sigma2 and mu\n",
    "    A = 0.5*(n + N)                  #a parameter of the full conditional of v\n",
    "    B = N*sigma2 + np.sum((y-mu)**2) #B parameter of the full conditional of sigma2\n",
    "    v = 1/np.random.gamma(A, 2/B, 1)\n",
    "    \n",
    "    #Draw sigma2 given y, v and mu\n",
    "    sigma2 = 1/np.random.gamma(1+0.5*N, 2*v/N, 1)"
   ]
  },
  {
   "cell_type": "code",
   "execution_count": 37,
   "metadata": {},
   "outputs": [
    {
     "data": {
      "text/plain": [
       "<matplotlib.legend.Legend at 0x11943ba90>"
      ]
     },
     "execution_count": 37,
     "metadata": {},
     "output_type": "execute_result"
    },
    {
     "data": {
      "image/png": "[encoded data removed]",
      "text/plain": [
       "<Figure size 432x288 with 1 Axes>"
      ]
     },
     "metadata": {
      "needs_background": "light"
     },
     "output_type": "display_data"
    }
   ],
   "source": [
    "plt.plot(mus,label='posterior traceplot of mu')\n",
    "plt.plot(np.ones(N)*mu_true,label='\"true\" value of mu')\n",
    "plt.legend()"
   ]
  },
  {
   "cell_type": "code",
   "execution_count": 38,
   "metadata": {},
   "outputs": [
    {
     "data": {
      "text/plain": [
       "<matplotlib.legend.Legend at 0x119605e80>"
      ]
     },
     "execution_count": 38,
     "metadata": {},
     "output_type": "execute_result"
    },
    {
     "data": {
      "image/png": "[encoded data removed]",
      "text/plain": [
       "<Figure size 432x288 with 1 Axes>"
      ]
     },
     "metadata": {
      "needs_background": "light"
     },
     "output_type": "display_data"
    }
   ],
   "source": [
    "plt.plot(sigma2s,label='posterior traceplot of sigma2')\n",
    "plt.plot(np.ones(N)*sigma2_true,label='\"true\" value of sigma2')\n",
    "plt.legend()"
   ]
  },
  {
   "cell_type": "code",
   "execution_count": 39,
   "metadata": {},
   "outputs": [
    {
     "data": {
      "text/plain": [
       "<matplotlib.legend.Legend at 0x11965a630>"
      ]
     },
     "execution_count": 39,
     "metadata": {},
     "output_type": "execute_result"
    },
    {
     "data": {
      "image/png": "[encoded data removed]",
      "text/plain": [
       "<Figure size 432x288 with 1 Axes>"
      ]
     },
     "metadata": {
      "needs_background": "light"
     },
     "output_type": "display_data"
    }
   ],
   "source": [
    "plt.plot(vs,label='posterior traceplot of v')\n",
    "plt.plot(np.ones(N)*v_true,label='\"true\" value of v')\n",
    "plt.legend()"
   ]
  },
  {
   "cell_type": "code",
   "execution_count": 42,
   "metadata": {},
   "outputs": [
    {
     "data": {
      "text/html": [
       "<div>\n",
       "<style scoped>\n",
       "    .dataframe tbody tr th:only-of-type {\n",
       "        vertical-align: middle;\n",
       "    }\n",
       "\n",
       "    .dataframe tbody tr th {\n",
       "        vertical-align: top;\n",
       "    }\n",
       "\n",
       "    .dataframe thead th {\n",
       "        text-align: right;\n",
       "    }\n",
       "</style>\n",
       "<table border=\"1\" class=\"dataframe\">\n",
       "  <thead>\n",
       "    <tr style=\"text-align: right;\">\n",
       "      <th></th>\n",
       "      <th>Posterior mean</th>\n",
       "      <th>Posterior median</th>\n",
       "      <th>Posterior 2.5% point</th>\n",
       "      <th>Posterior 97.5% point</th>\n",
       "    </tr>\n",
       "  </thead>\n",
       "  <tbody>\n",
       "    <tr>\n",
       "      <th>mu</th>\n",
       "      <td>1.998</td>\n",
       "      <td>1.998</td>\n",
       "      <td>1.859</td>\n",
       "      <td>2.136</td>\n",
       "    </tr>\n",
       "    <tr>\n",
       "      <th>v</th>\n",
       "      <td>1.009</td>\n",
       "      <td>1.001</td>\n",
       "      <td>0.811</td>\n",
       "      <td>1.235</td>\n",
       "    </tr>\n",
       "    <tr>\n",
       "      <th>sigma2</th>\n",
       "      <td>1.008</td>\n",
       "      <td>1.000</td>\n",
       "      <td>0.808</td>\n",
       "      <td>1.234</td>\n",
       "    </tr>\n",
       "  </tbody>\n",
       "</table>\n",
       "</div>"
      ],
      "text/plain": [
       "        Posterior mean  Posterior median  Posterior 2.5% point  \\\n",
       "mu               1.998             1.998                 1.859   \n",
       "v                1.009             1.001                 0.811   \n",
       "sigma2           1.008             1.000                 0.808   \n",
       "\n",
       "        Posterior 97.5% point  \n",
       "mu                      2.136  \n",
       "v                       1.235  \n",
       "sigma2                  1.234  "
      ]
     },
     "execution_count": 42,
     "metadata": {},
     "output_type": "execute_result"
    }
   ],
   "source": [
    "#present the output via a pandas data frame\n",
    "mmu = np.mean(mus)\n",
    "medmu = np.median(mus)\n",
    "pctmu = np.percentile(mus,(2.5,97.5))\n",
    "mv = np.mean(vs)\n",
    "medv = np.median(vs)\n",
    "pctv = np.percentile(vs,(2.5,97.5))\n",
    "msig = np.mean(sigma2s)\n",
    "medsig = np.median(sigma2s)\n",
    "pctsig = np.percentile(sigma2s,(2.5,97.5))\n",
    "results = np.array([[mmu,medmu,pctmu[0],pctmu[1]],[mv,medv,pctv[0],pctv[1]],[msig,medsig,pctsig[0],pctsig[1]]]).round(3)\n",
    "col = ['Posterior mean','Posterior median','Posterior 2.5% point','Posterior 97.5% point']\n",
    "ind = ['mu','v','sigma2']\n",
    "results = pd.DataFrame(results,columns = col,index=ind)\n",
    "results"
   ]
  },
  {
   "cell_type": "code",
   "execution_count": null,
   "metadata": {},
   "outputs": [],
   "source": []
  }
 ],
 "metadata": {
  "kernelspec": {
   "display_name": "Python 3",
   "language": "python",
   "name": "python3"
  },
  "language_info": {
   "codemirror_mode": {
    "name": "ipython",
    "version": 3
   },
   "file_extension": ".py",
   "mimetype": "text/x-python",
   "name": "python",
   "nbconvert_exporter": "python",
   "pygments_lexer": "ipython3",
   "version": "3.7.3"
  }
 },
 "nbformat": 4,
 "nbformat_minor": 2
}
